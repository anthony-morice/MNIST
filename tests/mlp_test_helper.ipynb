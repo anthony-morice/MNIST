{
 "cells": [
  {
   "cell_type": "code",
   "execution_count": 70,
   "id": "20a6a8bd",
   "metadata": {},
   "outputs": [
    {
     "data": {
      "text/plain": [
       "<torch._C.Generator at 0x7fbfe8374ad0>"
      ]
     },
     "execution_count": 70,
     "metadata": {},
     "output_type": "execute_result"
    }
   ],
   "source": [
    "import torch\n",
    "import torch.nn as nn\n",
    "import numpy as np\n",
    "torch.manual_seed(11)"
   ]
  },
  {
   "cell_type": "code",
   "execution_count": 71,
   "id": "fe95bb82-f3db-46cc-867e-0c03322dcddd",
   "metadata": {},
   "outputs": [],
   "source": [
    "in1 = torch.tensor(np.arange(1,21), dtype=torch.float32, requires_grad=True)\n",
    "in1.retain_grad()\n",
    "temp = np.zeros(10)\n",
    "temp[2] = 1\n",
    "y1 = torch.tensor(temp, dtype=torch.float32)"
   ]
  },
  {
   "cell_type": "code",
   "execution_count": 72,
   "id": "eb9ce48f-3eba-46b2-ae0f-73f02e43684c",
   "metadata": {},
   "outputs": [],
   "source": [
    "fc1 = nn.Linear(20,10)\n",
    "fc1.weight.retain_grad()\n",
    "fc1.bias.retain_grad()\n",
    "relu = nn.ReLU()\n",
    "loss_func = nn.CrossEntropyLoss()"
   ]
  },
  {
   "cell_type": "code",
   "execution_count": 73,
   "id": "3b359f52-4da2-4f4b-8763-71691e3d8e7c",
   "metadata": {},
   "outputs": [
    {
     "data": {
      "text/plain": [
       "torch.Size([10, 20])"
      ]
     },
     "execution_count": 73,
     "metadata": {},
     "output_type": "execute_result"
    }
   ],
   "source": [
    "fc1.weight.shape"
   ]
  },
  {
   "cell_type": "code",
   "execution_count": 74,
   "id": "a5ff23d1-47bd-4289-85a8-cb0772951b0f",
   "metadata": {},
   "outputs": [],
   "source": [
    "a1 = fc1(in1)\n",
    "a1.retain_grad()\n",
    "f1 = relu(a1)\n",
    "f1.retain_grad()\n",
    "y_tilde = loss_func(f1,y1)\n",
    "y_tilde.backward()"
   ]
  },
  {
   "cell_type": "code",
   "execution_count": 99,
   "id": "b1aeb72a-dd17-4966-a979-ea2528206c71",
   "metadata": {},
   "outputs": [
    {
     "data": {
      "text/plain": [
       "tensor(9.3297, grad_fn=<DivBackward1>)"
      ]
     },
     "execution_count": 99,
     "metadata": {},
     "output_type": "execute_result"
    }
   ],
   "source": [
    "y_tilde"
   ]
  },
  {
   "cell_type": "code",
   "execution_count": 75,
   "id": "bcf6498e-ad35-4a52-a484-39b8b6bdb0f7",
   "metadata": {},
   "outputs": [
    {
     "data": {
      "text/plain": [
       "tensor([ 6.3549, -3.1077, -0.1472,  5.6808,  9.2090,  6.0019, -7.6314,  1.3549,\n",
       "        -6.0272, -8.8823], grad_fn=<AddBackward0>)"
      ]
     },
     "execution_count": 75,
     "metadata": {},
     "output_type": "execute_result"
    }
   ],
   "source": [
    "a1"
   ]
  },
  {
   "cell_type": "code",
   "execution_count": 76,
   "id": "05177499-f75d-4c3f-9f19-d1a491caa76b",
   "metadata": {},
   "outputs": [
    {
     "data": {
      "text/plain": [
       "tensor([6.3549, 0.0000, 0.0000, 5.6808, 9.2090, 6.0019, 0.0000, 1.3549, 0.0000,\n",
       "        0.0000], grad_fn=<ReluBackward0>)"
      ]
     },
     "execution_count": 76,
     "metadata": {},
     "output_type": "execute_result"
    }
   ],
   "source": [
    "f1"
   ]
  },
  {
   "cell_type": "code",
   "execution_count": 92,
   "id": "1e36a051-2b7e-4a06-a647-c2797b4f55de",
   "metadata": {},
   "outputs": [],
   "source": [
    "dl_dy = f1.grad.data \n",
    "dl_da1 = a1.grad.data\n",
    "dl_dw1 = fc1.weight.grad.data\n",
    "dl_db1 = fc1.bias.grad.data\n",
    "dl_dx = in1.grad.data"
   ]
  },
  {
   "cell_type": "code",
   "execution_count": 93,
   "id": "4a5d0e8b-03c5-4093-bf63-c6a6d1f465bd",
   "metadata": {},
   "outputs": [
    {
     "data": {
      "text/plain": [
       "tensor([ 5.1059e-02,  8.8749e-05, -9.9991e-01,  2.6020e-02,  8.8626e-01,\n",
       "         3.5871e-02,  8.8749e-05,  3.4401e-04,  8.8749e-05,  8.8749e-05])"
      ]
     },
     "execution_count": 93,
     "metadata": {},
     "output_type": "execute_result"
    }
   ],
   "source": [
    "dl_dy"
   ]
  },
  {
   "cell_type": "code",
   "execution_count": 94,
   "id": "177e274c-61e8-4a06-818a-717b0fac6b37",
   "metadata": {},
   "outputs": [
    {
     "data": {
      "text/plain": [
       "tensor([5.1059e-02, 0.0000e+00, 0.0000e+00, 2.6020e-02, 8.8626e-01, 3.5871e-02,\n",
       "        0.0000e+00, 3.4401e-04, 0.0000e+00, 0.0000e+00])"
      ]
     },
     "execution_count": 94,
     "metadata": {},
     "output_type": "execute_result"
    }
   ],
   "source": [
    "dl_da1"
   ]
  },
  {
   "cell_type": "code",
   "execution_count": 95,
   "id": "b4a3a80e-9d80-4e31-8dd9-b807d532a49c",
   "metadata": {},
   "outputs": [
    {
     "data": {
      "text/plain": [
       "tensor([[5.1059e-02, 1.0212e-01, 1.5318e-01, 2.0424e-01, 2.5530e-01, 3.0636e-01,\n",
       "         3.5742e-01, 4.0847e-01, 4.5953e-01, 5.1059e-01, 5.6165e-01, 6.1271e-01,\n",
       "         6.6377e-01, 7.1483e-01, 7.6589e-01, 8.1695e-01, 8.6801e-01, 9.1907e-01,\n",
       "         9.7013e-01, 1.0212e+00],\n",
       "        [0.0000e+00, 0.0000e+00, 0.0000e+00, 0.0000e+00, 0.0000e+00, 0.0000e+00,\n",
       "         0.0000e+00, 0.0000e+00, 0.0000e+00, 0.0000e+00, 0.0000e+00, 0.0000e+00,\n",
       "         0.0000e+00, 0.0000e+00, 0.0000e+00, 0.0000e+00, 0.0000e+00, 0.0000e+00,\n",
       "         0.0000e+00, 0.0000e+00],\n",
       "        [0.0000e+00, 0.0000e+00, 0.0000e+00, 0.0000e+00, 0.0000e+00, 0.0000e+00,\n",
       "         0.0000e+00, 0.0000e+00, 0.0000e+00, 0.0000e+00, 0.0000e+00, 0.0000e+00,\n",
       "         0.0000e+00, 0.0000e+00, 0.0000e+00, 0.0000e+00, 0.0000e+00, 0.0000e+00,\n",
       "         0.0000e+00, 0.0000e+00],\n",
       "        [2.6020e-02, 5.2040e-02, 7.8060e-02, 1.0408e-01, 1.3010e-01, 1.5612e-01,\n",
       "         1.8214e-01, 2.0816e-01, 2.3418e-01, 2.6020e-01, 2.8622e-01, 3.1224e-01,\n",
       "         3.3826e-01, 3.6428e-01, 3.9030e-01, 4.1632e-01, 4.4234e-01, 4.6836e-01,\n",
       "         4.9438e-01, 5.2040e-01],\n",
       "        [8.8626e-01, 1.7725e+00, 2.6588e+00, 3.5450e+00, 4.4313e+00, 5.3176e+00,\n",
       "         6.2038e+00, 7.0901e+00, 7.9764e+00, 8.8626e+00, 9.7489e+00, 1.0635e+01,\n",
       "         1.1521e+01, 1.2408e+01, 1.3294e+01, 1.4180e+01, 1.5066e+01, 1.5953e+01,\n",
       "         1.6839e+01, 1.7725e+01],\n",
       "        [3.5871e-02, 7.1743e-02, 1.0761e-01, 1.4349e-01, 1.7936e-01, 2.1523e-01,\n",
       "         2.5110e-01, 2.8697e-01, 3.2284e-01, 3.5871e-01, 3.9459e-01, 4.3046e-01,\n",
       "         4.6633e-01, 5.0220e-01, 5.3807e-01, 5.7394e-01, 6.0981e-01, 6.4568e-01,\n",
       "         6.8156e-01, 7.1743e-01],\n",
       "        [0.0000e+00, 0.0000e+00, 0.0000e+00, 0.0000e+00, 0.0000e+00, 0.0000e+00,\n",
       "         0.0000e+00, 0.0000e+00, 0.0000e+00, 0.0000e+00, 0.0000e+00, 0.0000e+00,\n",
       "         0.0000e+00, 0.0000e+00, 0.0000e+00, 0.0000e+00, 0.0000e+00, 0.0000e+00,\n",
       "         0.0000e+00, 0.0000e+00],\n",
       "        [3.4401e-04, 6.8803e-04, 1.0320e-03, 1.3761e-03, 1.7201e-03, 2.0641e-03,\n",
       "         2.4081e-03, 2.7521e-03, 3.0961e-03, 3.4401e-03, 3.7841e-03, 4.1282e-03,\n",
       "         4.4722e-03, 4.8162e-03, 5.1602e-03, 5.5042e-03, 5.8482e-03, 6.1922e-03,\n",
       "         6.5362e-03, 6.8803e-03],\n",
       "        [0.0000e+00, 0.0000e+00, 0.0000e+00, 0.0000e+00, 0.0000e+00, 0.0000e+00,\n",
       "         0.0000e+00, 0.0000e+00, 0.0000e+00, 0.0000e+00, 0.0000e+00, 0.0000e+00,\n",
       "         0.0000e+00, 0.0000e+00, 0.0000e+00, 0.0000e+00, 0.0000e+00, 0.0000e+00,\n",
       "         0.0000e+00, 0.0000e+00],\n",
       "        [0.0000e+00, 0.0000e+00, 0.0000e+00, 0.0000e+00, 0.0000e+00, 0.0000e+00,\n",
       "         0.0000e+00, 0.0000e+00, 0.0000e+00, 0.0000e+00, 0.0000e+00, 0.0000e+00,\n",
       "         0.0000e+00, 0.0000e+00, 0.0000e+00, 0.0000e+00, 0.0000e+00, 0.0000e+00,\n",
       "         0.0000e+00, 0.0000e+00]])"
      ]
     },
     "execution_count": 95,
     "metadata": {},
     "output_type": "execute_result"
    }
   ],
   "source": [
    "dl_dw1"
   ]
  },
  {
   "cell_type": "code",
   "execution_count": 96,
   "id": "fe7c9bf7-9d1e-405e-929b-3e5c5d7243d0",
   "metadata": {},
   "outputs": [
    {
     "data": {
      "text/plain": [
       "tensor([5.1059e-02, 0.0000e+00, 0.0000e+00, 2.6020e-02, 8.8626e-01, 3.5871e-02,\n",
       "        0.0000e+00, 3.4401e-04, 0.0000e+00, 0.0000e+00])"
      ]
     },
     "execution_count": 96,
     "metadata": {},
     "output_type": "execute_result"
    }
   ],
   "source": [
    "dl_db1"
   ]
  },
  {
   "cell_type": "code",
   "execution_count": 97,
   "id": "a0895902-7e86-4877-a7bc-7fb0c6f9f750",
   "metadata": {},
   "outputs": [
    {
     "data": {
      "text/plain": [
       "torch.Size([10, 20])"
      ]
     },
     "execution_count": 97,
     "metadata": {},
     "output_type": "execute_result"
    }
   ],
   "source": [
    "dl_dw1.shape"
   ]
  },
  {
   "cell_type": "code",
   "execution_count": 98,
   "id": "2b2cbbda-ab51-4b3f-8e6c-bf02cb904b8d",
   "metadata": {},
   "outputs": [
    {
     "data": {
      "text/plain": [
       "tensor([-0.0788, -0.1926, -0.0558, -0.1205,  0.1692,  0.1932,  0.1027, -0.0289,\n",
       "        -0.1888,  0.0234, -0.0825,  0.0021, -0.1001, -0.0109,  0.1147,  0.2001,\n",
       "         0.1575, -0.0957,  0.1405,  0.1399])"
      ]
     },
     "execution_count": 98,
     "metadata": {},
     "output_type": "execute_result"
    }
   ],
   "source": [
    "dl_dx"
   ]
  }
 ],
 "metadata": {
  "kernelspec": {
   "display_name": "Python 3 (ipykernel)",
   "language": "python",
   "name": "python3"
  },
  "language_info": {
   "codemirror_mode": {
    "name": "ipython",
    "version": 3
   },
   "file_extension": ".py",
   "mimetype": "text/x-python",
   "name": "python",
   "nbconvert_exporter": "python",
   "pygments_lexer": "ipython3",
   "version": "3.10.6"
  }
 },
 "nbformat": 4,
 "nbformat_minor": 5
}
