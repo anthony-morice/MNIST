{
 "cells": [
  {
   "cell_type": "code",
   "execution_count": 40,
   "id": "20a6a8bd",
   "metadata": {},
   "outputs": [
    {
     "data": {
      "text/plain": [
       "<torch._C.Generator at 0x7f926013cb50>"
      ]
     },
     "execution_count": 40,
     "metadata": {},
     "output_type": "execute_result"
    }
   ],
   "source": [
    "import torch\n",
    "import torch.nn as nn\n",
    "import numpy as np\n",
    "torch.manual_seed(11)"
   ]
  },
  {
   "cell_type": "code",
   "execution_count": 41,
   "id": "fe95bb82-f3db-46cc-867e-0c03322dcddd",
   "metadata": {},
   "outputs": [],
   "source": [
    "in1 = torch.tensor(np.arange(1,6), dtype=torch.float32, requires_grad=True)\n",
    "in1.retain_grad()\n",
    "one_hot = np.zeros(3)\n",
    "one_hot[1] = 1\n",
    "y1 = torch.tensor(one_hot, dtype=torch.float32)"
   ]
  },
  {
   "cell_type": "code",
   "execution_count": 42,
   "id": "eb9ce48f-3eba-46b2-ae0f-73f02e43684c",
   "metadata": {},
   "outputs": [],
   "source": [
    "fc1 = nn.Linear(5,3)\n",
    "fc1.weight.retain_grad()\n",
    "fc1.bias.retain_grad()\n",
    "relu = nn.ReLU()\n",
    "loss_func = nn.CrossEntropyLoss()"
   ]
  },
  {
   "cell_type": "code",
   "execution_count": 43,
   "id": "edcce478-109c-42bd-aa39-22dcfcdb8aa6",
   "metadata": {},
   "outputs": [
    {
     "data": {
      "text/plain": [
       "tensor([1., 2., 3., 4., 5.], requires_grad=True)"
      ]
     },
     "execution_count": 43,
     "metadata": {},
     "output_type": "execute_result"
    }
   ],
   "source": [
    "in1"
   ]
  },
  {
   "cell_type": "code",
   "execution_count": 44,
   "id": "337d208e-396c-4c91-8268-1732a3ea802a",
   "metadata": {},
   "outputs": [
    {
     "data": {
      "text/plain": [
       "tensor([0., 1., 0.])"
      ]
     },
     "execution_count": 44,
     "metadata": {},
     "output_type": "execute_result"
    }
   ],
   "source": [
    "y1"
   ]
  },
  {
   "cell_type": "code",
   "execution_count": 45,
   "id": "3b359f52-4da2-4f4b-8763-71691e3d8e7c",
   "metadata": {},
   "outputs": [
    {
     "data": {
      "text/plain": [
       "torch.Size([3, 5])"
      ]
     },
     "execution_count": 45,
     "metadata": {},
     "output_type": "execute_result"
    }
   ],
   "source": [
    "fc1.weight.shape"
   ]
  },
  {
   "cell_type": "code",
   "execution_count": 46,
   "id": "32b047a9-869c-411c-95e7-d65c3a8a2b49",
   "metadata": {},
   "outputs": [
    {
     "data": {
      "text/plain": [
       "tensor([[-0.3139,  0.1732, -0.2063],\n",
       "        [-0.0120,  0.0743,  0.2526],\n",
       "        [ 0.4344, -0.3323, -0.2040],\n",
       "        [-0.2966,  0.0645, -0.0329],\n",
       "        [ 0.0751,  0.3800,  0.2389]], grad_fn=<PermuteBackward0>)"
      ]
     },
     "execution_count": 46,
     "metadata": {},
     "output_type": "execute_result"
    }
   ],
   "source": [
    "fc1.weight.T"
   ]
  },
  {
   "cell_type": "code",
   "execution_count": 47,
   "id": "d9646534-e779-415b-8f8c-f2708eba4b1d",
   "metadata": {},
   "outputs": [
    {
     "data": {
      "text/plain": [
       "Parameter containing:\n",
       "tensor([ 0.0022, -0.3555,  0.2325], requires_grad=True)"
      ]
     },
     "execution_count": 47,
     "metadata": {},
     "output_type": "execute_result"
    }
   ],
   "source": [
    "fc1.bias"
   ]
  },
  {
   "cell_type": "code",
   "execution_count": 48,
   "id": "a5ff23d1-47bd-4289-85a8-cb0772951b0f",
   "metadata": {},
   "outputs": [],
   "source": [
    "a1 = fc1(in1)\n",
    "a1.retain_grad()\n",
    "f1 = relu(a1)\n",
    "f1.retain_grad()\n",
    "y_tilde = loss_func(f1,y1)\n",
    "y_tilde.backward()"
   ]
  },
  {
   "cell_type": "code",
   "execution_count": 49,
   "id": "b1aeb72a-dd17-4966-a979-ea2528206c71",
   "metadata": {},
   "outputs": [
    {
     "data": {
      "text/plain": [
       "tensor(0.8083, grad_fn=<DivBackward1>)"
      ]
     },
     "execution_count": 49,
     "metadata": {},
     "output_type": "execute_result"
    }
   ],
   "source": [
    "y_tilde"
   ]
  },
  {
   "cell_type": "code",
   "execution_count": 50,
   "id": "bcf6498e-ad35-4a52-a484-39b8b6bdb0f7",
   "metadata": {},
   "outputs": [
    {
     "data": {
      "text/plain": [
       "tensor([0.1564, 1.1272, 0.9825], grad_fn=<AddBackward0>)"
      ]
     },
     "execution_count": 50,
     "metadata": {},
     "output_type": "execute_result"
    }
   ],
   "source": [
    "a1"
   ]
  },
  {
   "cell_type": "code",
   "execution_count": 51,
   "id": "05177499-f75d-4c3f-9f19-d1a491caa76b",
   "metadata": {},
   "outputs": [
    {
     "data": {
      "text/plain": [
       "tensor([0.1564, 1.1272, 0.9825], grad_fn=<ReluBackward0>)"
      ]
     },
     "execution_count": 51,
     "metadata": {},
     "output_type": "execute_result"
    }
   ],
   "source": [
    "f1"
   ]
  },
  {
   "cell_type": "code",
   "execution_count": 52,
   "id": "1e36a051-2b7e-4a06-a647-c2797b4f55de",
   "metadata": {},
   "outputs": [],
   "source": [
    "dl_dy = f1.grad.data \n",
    "dl_da1 = a1.grad.data\n",
    "dl_dw1 = fc1.weight.grad.data\n",
    "dl_db1 = fc1.bias.grad.data\n",
    "dl_dx = in1.grad.data"
   ]
  },
  {
   "cell_type": "code",
   "execution_count": 53,
   "id": "4a5d0e8b-03c5-4093-bf63-c6a6d1f465bd",
   "metadata": {},
   "outputs": [
    {
     "data": {
      "text/plain": [
       "tensor([ 0.1688, -0.5544,  0.3856])"
      ]
     },
     "execution_count": 53,
     "metadata": {},
     "output_type": "execute_result"
    }
   ],
   "source": [
    "dl_dy"
   ]
  },
  {
   "cell_type": "code",
   "execution_count": 55,
   "id": "177e274c-61e8-4a06-818a-717b0fac6b37",
   "metadata": {},
   "outputs": [
    {
     "data": {
      "text/plain": [
       "tensor([ 0.1688, -0.5544,  0.3856])"
      ]
     },
     "execution_count": 55,
     "metadata": {},
     "output_type": "execute_result"
    }
   ],
   "source": [
    "dl_da1"
   ]
  },
  {
   "cell_type": "code",
   "execution_count": 56,
   "id": "b4a3a80e-9d80-4e31-8dd9-b807d532a49c",
   "metadata": {},
   "outputs": [
    {
     "data": {
      "text/plain": [
       "tensor([[ 0.1688,  0.3376,  0.5064,  0.6752,  0.8440],\n",
       "        [-0.5544, -1.1088, -1.6631, -2.2175, -2.7719],\n",
       "        [ 0.3856,  0.7712,  1.1568,  1.5424,  1.9279]])"
      ]
     },
     "execution_count": 56,
     "metadata": {},
     "output_type": "execute_result"
    }
   ],
   "source": [
    "dl_dw1"
   ]
  },
  {
   "cell_type": "code",
   "execution_count": 58,
   "id": "fe7c9bf7-9d1e-405e-929b-3e5c5d7243d0",
   "metadata": {},
   "outputs": [
    {
     "data": {
      "text/plain": [
       "tensor([ 0.1688, -0.5544,  0.3856])"
      ]
     },
     "execution_count": 58,
     "metadata": {},
     "output_type": "execute_result"
    }
   ],
   "source": [
    "dl_db1"
   ]
  },
  {
   "cell_type": "code",
   "execution_count": 59,
   "id": "a0895902-7e86-4877-a7bc-7fb0c6f9f750",
   "metadata": {},
   "outputs": [
    {
     "data": {
      "text/plain": [
       "torch.Size([3, 5])"
      ]
     },
     "execution_count": 59,
     "metadata": {},
     "output_type": "execute_result"
    }
   ],
   "source": [
    "dl_dw1.shape"
   ]
  },
  {
   "cell_type": "code",
   "execution_count": 60,
   "id": "2b2cbbda-ab51-4b3f-8e6c-bf02cb904b8d",
   "metadata": {},
   "outputs": [
    {
     "data": {
      "text/plain": [
       "tensor([-0.2285,  0.0542,  0.1789, -0.0985, -0.1059])"
      ]
     },
     "execution_count": 60,
     "metadata": {},
     "output_type": "execute_result"
    }
   ],
   "source": [
    "dl_dx"
   ]
  }
 ],
 "metadata": {
  "kernelspec": {
   "display_name": "Python 3 (ipykernel)",
   "language": "python",
   "name": "python3"
  },
  "language_info": {
   "codemirror_mode": {
    "name": "ipython",
    "version": 3
   },
   "file_extension": ".py",
   "mimetype": "text/x-python",
   "name": "python",
   "nbconvert_exporter": "python",
   "pygments_lexer": "ipython3",
   "version": "3.10.6"
  }
 },
 "nbformat": 4,
 "nbformat_minor": 5
}
